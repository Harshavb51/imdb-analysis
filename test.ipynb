{
 "cells": [
  {
   "cell_type": "code",
   "execution_count": 45,
   "metadata": {},
   "outputs": [],
   "source": [
    "import numpy as np\n",
    "import pandas as pd\n",
    "import nltk \n",
    "import matplotlib.pyplot as plt\n",
    "from nltk import pos_tag\n",
    "from sklearn import model_selection, preprocessing,metrics,naive_bayes,svm\n",
    "from nltk.tokenize import word_tokenize\n",
    "from collections import defaultdict\n",
    "from sklearn.feature_extraction.text import TfidfVectorizer,CountVectorizer\n",
    "from nltk.corpus import stopwords \n",
    "from nltk.stem.wordnet import WordNetLemmatizer\n",
    "from wordcloud import WordCloud\n",
    "from bs4 import BeautifulSoup\n",
    "import os\n",
    "import random\n",
    "from nltk.corpus import wordnet as wn"
   ]
  },
  {
   "cell_type": "markdown",
   "metadata": {},
   "source": [
    "### labeling the text "
   ]
  },
  {
   "cell_type": "code",
   "execution_count": 37,
   "metadata": {},
   "outputs": [],
   "source": [
    "path = r\"C:\\Users\\harshavb\\Desktop\\xlabs\\imdb-movie-reviews-dataset\\aclImdb\"\n",
    "# positiveFiles = [x for x in os.listdir(path+\"train\\pos\") if x.endswith(\".txt\")]\n",
    "# negativeFiles = [x for x in os.listdir(path+\"train\\neg\") if x.endswith(\".txt\")]\n",
    "# testFiles = [x for x in os.listdir(path+\"test\") if x.endswith(\".txt\")]\n",
    "train_texts = []\n",
    "train_labels = []\n",
    "for category in ['pos', 'neg']:\n",
    "    train_path = os.path.join(path, 'train', category)\n",
    "    for fname in sorted(os.listdir(train_path)):\n",
    "        if fname.endswith('.txt'):\n",
    "            with open(os.path.join(train_path, fname),encoding=\"utf8\") as f:\n",
    "                train_texts.append(f.read())\n",
    "            train_labels.append(0 if category == 'neg' else 1)\n",
    "test_texts = []\n",
    "test_labels = []\n",
    "for category in ['pos', 'neg']:\n",
    "    test_path = os.path.join(path, 'test', category)\n",
    "    for fname in sorted(os.listdir(test_path)):\n",
    "        if fname.endswith('.txt'):\n",
    "            with open(os.path.join(test_path, fname),encoding=\"utf8\") as f:\n",
    "                test_texts.append(f.read())\n",
    "            test_labels.append(0 if category == 'neg' else 1)\n",
    "\n",
    "seed=123\n",
    "random.seed(seed)\n",
    "random.shuffle(train_texts)\n",
    "random.seed(seed)\n",
    "random.shuffle(train_labels)\n",
    "random.seed(seed)\n",
    "random.shuffle(test_texts)\n",
    "random.seed(seed)\n",
    "random.shuffle(test_labels)"
   ]
  },
  {
   "cell_type": "markdown",
   "metadata": {},
   "source": [
    "### converting in to dataframe"
   ]
  },
  {
   "cell_type": "code",
   "execution_count": 38,
   "metadata": {},
   "outputs": [],
   "source": [
    "train=pd.DataFrame({\"review\":train_texts, \"label\":train_labels},columns=['review','label'] )\n",
    "test=pd.DataFrame({\"review\":test_texts, \"label\":test_labels},columns=['review','label'] )\n",
    "X_train=train['review']\n",
    "y_train=train['label']\n",
    "Xtest=test['review']\n",
    "y_test=test['label']\n",
    "X_train=X_train.apply(word_tokenize)\n",
    "X_test=Xtest.apply(word_tokenize)"
   ]
  },
  {
   "cell_type": "code",
   "execution_count": 43,
   "metadata": {},
   "outputs": [
    {
     "name": "stdout",
     "output_type": "stream",
     "text": [
      "============================================================\n",
      "Luchino Visconti was light years ahead of his contemporaries. The great directors of Italy of the 40s and 50s were men who understood the medium, but it was Luchino Visconti, a man of vision, who dared to bring a film like to show what he was capable of doing. He clearly shows his genius early on in his distinguished career with \"Ossessione\", a film based on James Cain's \"The Postman Always Ring Twice\", which was later made by Hollywood, but that version pales in comparison with what Visconti achieved in the movie. Luchino Visconti and his collaborators on the screen included an uncredited Alberto Moravia, a man who knew about the effect of passion on human beings.<br /><br />The film has been well preserved in the DVD format we watched recently. The film is a must for all serious movie fans because we can see how Visconti's vision translated the text into a movie that rings true in a plausible way, something the American version lacked.<br /><br />What comes across watching the movie, is the intensity which the director got from his key players. The magnificent Clara Calamai does an amazing job as Giovanna, the woman who has married an older man, but when Gino appears in her life, all she wants to do is rid herself of the kind man who gave her an opportunity in life. Giovanna is one of the best creations in Ms. Calamai's achievements in the Italian cinema. The last sequence of the film shows Ms. Calamai at her best in the ironic twist that serves as the moral redemption for the monstrous crime that was committed.<br /><br />Equally excellent is Massimo Girotti, one of the best actors of his generation who appears as Gino, the hunky man that awakens the obsessive passion in Giovanna. Gino is the perfect man for Giovanna, something that Mr. Girotti projects with such ease and sophistication not equaled before in the screen. Mr. Girotti makes the man come alive in a performance that seems so easy, yet with another actor it might not have been so apparent. Juan DeLanda is seen as Giuseppe, the older man who fell in love with Giovanna. In fact, his character rings truer than his counterpart in the American film, where he is seen more as a buffoon.<br /><br />The film is beautifully photographed by Domenic Scala and Aldo Tonti. They gave the film a naturalistic look that was the way Italian directors of the era favored. The original musical score of Giuseppe Rosati is perfect. Visconti, a man who loved opera and was one of the best directors, also includes arias by Bizet and Verdi that fit well in the context of the movie.<br /><br />\"Ossessione\" is a film to treasure because we see a great Luchino Visconti at the top of his form. || 1\n",
      "============================================================\n",
      "============================================================\n",
      "This film is so much of a rip-off of the masterpeice \"demons\" and thats the only thing that makes the movie worth watching. The acting is terrible,the action scenes are speeded up,the script is almost painful and budget non existent.<br /><br />If you think this film is good then you havn't seen a real horror film, skip this and get a copy of the movie demons. || 0\n",
      "============================================================\n",
      "============================================================\n",
      "Very bad but watchable science fiction film that suffers from abominable special effects, poor acting, and a ridiculous story. The film opens with a spaceship returning from exploration on Mars with a woman and a man with green slime on his arm. She, through some hokey plot contrivances, begins to tell what happened on this fateful trip as almost all the tapes seemed to be magnetically wiped off. Four astronauts take on this journey: a military type played by Gerald Mohr, a poor man's Humphrey Bogart who enjoys saying the word \"Irish\" and has the acting savvy of a codfish, then there is Naura Hayden, a beautiful redhead and only female crew member on flight with three men wearing the most formfitting suits possible to accentuate all her curves, next, Les Tremaine, a wonderful character actor from cheap sci-fi films like this as the egghead, and last, Jack Kruschen as Sammy - the guy from Brooklyn with jokes and doesn't seem too bright although chosen for his expertise in electronics. None of these performers are really any good, and all of them say their dialog with little conviction. Watch Tremaine as he utters that scientific nonsense! Really, the best out of the four is Kruschen - and that really says a lot about this film. But bad acting aside, the movie just falls apart when they land on Mars via flashback. The Angry Red Planet had a real cheap budget because Mars is really the American Southwest with a heavy red tint over it. When the story calls for something that might look Martian, there are drawings placed with a heavy red tint over them. You can tell they are drawings The monsters are perhaps even worse as we get a Bat-rat-spider with a size upwards of 40 feet that looks like some kids got together piecing dead animals together. The other significant creature is a giant amoeba with an oscillating eye. Whew! These are bad. There is a nice drawing of a Martian city, but there just was not enough of this in the film. Despite all these big problems, The Angry Red Planet is a fun bad film. It is really fascinating to see how far we have come as a civilization. Most of the stuff they used in the movie is so outdated. One guy is using an electric razor with a cord and I thought they can get to Mars but they are still using cords. Director Ib Melchior gives an interesting look to much of the film even with the budgetary constraints, but the story by him and Sid Pink doesn't fly. And how bout that ending with the music and the psychedelic colors? Groovy man! || 0\n",
      "============================================================\n",
      "============================================================\n",
      "Encompassing virtual reality, the potential of computers, communication with the past, the ongoing struggle to express your identity in a constraining society, and the fascinating Ada Byron Lovelace portrayed by the fascinating Tilda Swinton, this film should have been great. But it is lousy, terrible if you consider the potential! The acting - aside from Tilda Swinton and Karen Black - veers from tolerable to atrocious. The plot construction is awkward to say the least - the modern day programmer is a dull one-note character, but half the movie is spent setting up her character, and then when Ada finally appears, it is to narrate the events of her life, not to present an engaging story (Swinton almost pulls this off, though). You never fully get to know her as a real person, just an icon from a grad student's history paper.<br /><br />The digital effects, such as a digital dog and bird, are lousy and distracting, considering it was 1997 and not 1985. And, finally, the script is just bad. Bad, often pretentious dialog - especially the fights between the programmer and her boyfriend, which made me squirm - cold and distant characters, and zero attempt to create a sense of wonder. The programmer successfully contacts a person in the past! Astonishing! But it hardly seems to surprise anyone, and her boyfriend says, \"Well, be careful.\" (Although we're given no clue then or later why it might be dangerous, and it never seems to actually be dangerous.)<br /><br />Also, despite being about computers and Ada Lovelace and her love of mathematics, it is clear no one involved with the script had any knowledge of mathematics OR computers - any references to these subjects come across as complete mumbo jumbo that defies any suspension of disbelief.<br /><br />One scene, towards the end of the movie, is quite good, a monolog by Tilda Swinton expressing her sadness at the fragility of life but her joy in that life. Poignant, passionate, and insightful, it seems to be dropped in from another movie.<br /><br />So I am disappointed in this movie, because it is a missed opportunity for a fascinating little cult film. If you find the subject matter interesting, you might want to rent it, but be forewarned. See Orlando for another, much much better examination of gender roles in history with a great Tilda Swinton performance.<br /><br />***spoiler/question: * *<br /><br />At the end of the movie, Ada asks that her memories not be preserved (in what I thought was the best scene in the movie). But then the modern day programmer seems to do it anyway, transferring the memories into her little girl (hence the title of the movie). Am I correct, that the programmer violated Ada's wishes without even struggling over it? Or is this another confusing plot point that I'm misinterpreting? || 0\n",
      "============================================================\n",
      "============================================================\n",
      "\"Winchester '73\" marked the first of a series of westerns involving James Stewart and director Anthony Mann. As in most of them Stewart's hero has an violent edge that threatens to explode at any time.<br /><br /> The title refers to a \"one in a thousand\" rifle that is up for competition at a rifle shoot held in Dodge City on July 4, 1876. Into town comes Lin McAdam (Stewart) and his sidekick High Spade (Millard Mitchell) who are on the trail of Dutch Henry Brown (Stephen McNally) for a past dastardly deed. They arrive just in time to see Marshal Wyatt Earp (Will Geer) running saloon girl Lola (Shelley Winters) out of town. It turns out that Dutch Henry is also in town for the rifle shoot. Lin and Dutch Henry shoot it out for the coveted prize with Lin winning but Dutch Henry robs Lin of the gun and escapes.<br /><br /> Lin and High Spade trail Dutch Henry across country where they encounter Lola with her cowardly beau Steve Miller (Charles Drake) hold up in a U.S. Cavalry camp awaiting attack by the Indians led by Young Bull (Rock Hudson) who has acquired the prized rifle by murdering wily gun runner John McIntyre. He had got the weapon by cheating Dutch Henry at poker. Young Bull is killed during the attack and the gun passes to Steve.<br /><br /> Meanwhile, back at the ranch, Lola and Steve meet up with notorious gunman Waco Johnny Dean (Dan Duryea) who kills Steve and takes the valued rifle and Lola for himself. When Dean meets up with Dutch Henry, he allows him to take back \"his gun\" planning to murder him later. In the town of Tuscosa, Lin kills Dean as Dutch Henry's plans of holding up the bank go bad and he escapes into the hills with Lin in pursuit. In one of the best final shoot outs ever, the two meet in the final showdown.<br /><br /> I believe that this movie was the only one of the Stewart/Mann collaborations that was shot in B&W. It is beautifully photographed, especially the scenes in the \"wide open spaces\" and in particular, the final showdown. Stewart playing against type, plays the hero with a violent revenge motive edge, an emotion that he would carry into future films with Mann.<br /><br /> As in most Universal westerns, this one boasts a cast of seasoned veterans and contract players of the day. In addition to those mentioned above, J.C. Flippen appears as the cavalry sergeant, Steve Brodie, James Millican, John Doucette and Chuck Roberson as various henchmen, Ray Teal as the sheriff pursuing Duryea, Tony Curtis and James Best as rookie soldiers and Edmund Cobb, Chief Yowlachie and John War Eagle in various roles in the Dodge City sequence.<br /><br /> A classic western in every sense of the word. It was responsible for re-generating Stewart's career as an action star. || 1\n",
      "============================================================\n"
     ]
    }
   ],
   "source": [
    "size_of_samp = 5\n",
    "trX=train['review']\n",
    "trY=train['label']\n",
    "rand_samples_to_check = np.random.randint(len(trX), size=size_of_samp)\n",
    "\n",
    "for samp_num in rand_samples_to_check:\n",
    "    print ('============================================================')\n",
    "    print (trX[samp_num], '||', trY[samp_num])\n",
    "    print ('============================================================')"
   ]
  },
  {
   "cell_type": "markdown",
   "metadata": {},
   "source": [
    "### visualization of frequency of the words"
   ]
  },
  {
   "cell_type": "code",
   "execution_count": 46,
   "metadata": {},
   "outputs": [
    {
     "data": {
      "image/png": "[encoded data removed]",
      "text/plain": [
       "<matplotlib.figure.Figure at 0x2ac9dd5a048>"
      ]
     },
     "metadata": {},
     "output_type": "display_data"
    }
   ],
   "source": [
    "kwargs = {\n",
    "    'ngram_range' : (1, 1),\n",
    "    'dtype' : 'int32',\n",
    "    'strip_accents' : 'unicode',\n",
    "    'decode_error' : 'replace',\n",
    "    'analyzer' : 'word'\n",
    "}\n",
    "\n",
    "vectorizer = CountVectorizer(**kwargs)\n",
    "vect_texts = vectorizer.fit_transform(list(trX))\n",
    "all_ngrams = vectorizer.get_feature_names()\n",
    "num_ngrams = min(50, len(all_ngrams))\n",
    "all_counts = vect_texts.sum(axis=0).tolist()[0]\n",
    "\n",
    "all_ngrams, all_counts = zip(*[(n, c) for c, n in sorted(zip(all_counts, all_ngrams), reverse=True)])\n",
    "ngrams = all_ngrams[:num_ngrams]\n",
    "counts = all_counts[:num_ngrams]\n",
    "\n",
    "idx = np.arange(num_ngrams)\n",
    "\n",
    "plt.figure(figsize=(30, 30))\n",
    "plt.bar(idx, counts, width=0.8)\n",
    "plt.xlabel('N-grams')\n",
    "plt.ylabel('Frequencies')\n",
    "plt.title('Frequency distribution of ngrams')\n",
    "plt.xticks(idx, ngrams, rotation=45,fontsize=18)\n",
    "plt.show()"
   ]
  },
  {
   "cell_type": "markdown",
   "metadata": {},
   "source": [
    "### Stop words"
   ]
  },
  {
   "cell_type": "code",
   "execution_count": 48,
   "metadata": {},
   "outputs": [],
   "source": [
    "from string import punctuation\n",
    "words = ['br','The','I','Her','i', 'me', 'my', 'myself', 'we', 'our', 'ours','\"','\"','ourselves', 'you', \"you're\", \"you've\", \"you'll\", \"you'd\", 'your', 'yours', 'yourself', 'yourselves', 'he', 'him', 'his', 'himself', 'she', \"she's\", 'her', 'hers', 'herself', 'it', \"it's\", 'its', 'itself', 'they', 'them', 'their', 'theirs', 'themselves', 'what', 'which', 'who', 'whom', 'this', 'that', \"that'll\", 'these', 'those', 'am', 'is', 'are', 'was', 'were', 'be', 'been', 'being', 'have', 'has', 'had', 'having', 'do', 'does', 'did', 'doing', 'a', 'an', 'the']\n",
    "stopwords = set(stopwords.words('german')+list(punctuation)+list(words))"
   ]
  },
  {
   "cell_type": "markdown",
   "metadata": {},
   "source": [
    "### preprocessing the data "
   ]
  },
  {
   "cell_type": "code",
   "execution_count": 49,
   "metadata": {},
   "outputs": [],
   "source": [
    "trainp=train\n",
    "testp=test\n",
    "tag_map = defaultdict(lambda : wn.NOUN)\n",
    "tag_map['J'] = wn.ADJ\n",
    "tag_map['V'] = wn.VERB\n",
    "tag_map['R'] = wn.ADV\n",
    "for index,entry in enumerate(X_train):\n",
    "    # Declaring Empty List to store the words that follow the rules for this step\n",
    "    Final_words = []\n",
    "    # Initializing WordNetLemmatizer()\n",
    "    word_Lemmatized = WordNetLemmatizer()\n",
    "    # pos_tag function below will provide the 'tag' i.e if the word is Noun(N) or Verb(V) or something else.\n",
    "    for word, tag in pos_tag(entry):\n",
    "        # Below condition is to check for Stop words\n",
    "        if word not in stopwords :\n",
    "            word_Final = word_Lemmatized.lemmatize(word,tag_map[tag[0]])\n",
    "            Final_words.append(word_Final)\n",
    "    # The final processed set of words for each iteration will be stored in 'text_final'\n",
    "    trainp.loc[index,'text_final'] = str(Final_words)"
   ]
  },
  {
   "cell_type": "code",
   "execution_count": 50,
   "metadata": {},
   "outputs": [],
   "source": [
    "for index,entry in enumerate(X_test):\n",
    "    # Declaring Empty List to store the words that follow the rules for this step\n",
    "    Final_words = []\n",
    "    # Initializing WordNetLemmatizer()\n",
    "    word_Lemmatized = WordNetLemmatizer()\n",
    "    # pos_tag function below will provide the 'tag' i.e if the word is Noun(N) or Verb(V) or something else.\n",
    "    for word, tag in pos_tag(entry):\n",
    "        # Below condition is to check for Stop words and consider only alphabets\n",
    "        if word not in stopwords:\n",
    "            word_Final = word_Lemmatized.lemmatize(word,tag_map[tag[0]])\n",
    "            Final_words.append(word_Final)\n",
    "    # The final processed set of words for each iteration will be stored in 'text_final'\n",
    "    testp.loc[index,'text_final'] = str(Final_words)"
   ]
  },
  {
   "cell_type": "markdown",
   "metadata": {},
   "source": [
    "### Tf-Idf vectorizer"
   ]
  },
  {
   "cell_type": "code",
   "execution_count": 103,
   "metadata": {},
   "outputs": [],
   "source": [
    "#NGRAM_RANGE = (1, 2)\n",
    "#using tfidf\n",
    "vectorizer = TfidfVectorizer(decode_error='replace',\n",
    "                             strip_accents='unicode',\n",
    "                             analyzer='word',stop_words=None,token_pattern=r'\\w{1,}',\n",
    "                             ngram_range=(1, 2), max_df=1.0, min_df=2,lowercase=True)"
   ]
  },
  {
   "cell_type": "markdown",
   "metadata": {},
   "source": [
    "### training the model without preprocessing of text"
   ]
  },
  {
   "cell_type": "code",
   "execution_count": 84,
   "metadata": {},
   "outputs": [],
   "source": [
    "train_x, valid_x, train_y, valid_y = model_selection.train_test_split(trainp['review'], trainp['label'],test_size=0.3)\n",
    "encoder = preprocessing.LabelEncoder()\n",
    "train_y = encoder.fit_transform(train_y)\n",
    "valid_y = encoder.fit_transform(valid_y)\n",
    "train_x=vectorizer.fit_transform(train_x)\n",
    "valid_x=vectorizer.transform(valid_x)\n",
    "test_y = encoder.fit_transform(y_test)\n",
    "X_test=test['text_final'] #pre-processed test data\n",
    "test_wp=test['review'] #without preprocessing"
   ]
  },
  {
   "cell_type": "code",
   "execution_count": 85,
   "metadata": {},
   "outputs": [],
   "source": [
    "xtest_tfi =  vectorizer.transform(X_test)#tfidf vectorizer on pre-processed text\n",
    "test_pvect= vectorizer.transform(test_wp)#tfidf vectorizer on text without preprocessing"
   ]
  },
  {
   "cell_type": "markdown",
   "metadata": {},
   "source": [
    "### using different types of model and finding the accuracy comparing the accuracy between processed and normal data"
   ]
  },
  {
   "cell_type": "code",
   "execution_count": 87,
   "metadata": {
    "scrolled": true
   },
   "outputs": [
    {
     "name": "stdout",
     "output_type": "stream",
     "text": [
      "valid: 0.8704\n",
      "test_Processing: 0.85324\n",
      "test_withoutprocess : 0.86036\n"
     ]
    }
   ],
   "source": [
    "from sklearn.naive_bayes import BernoulliNB\n",
    "classifier=BernoulliNB().fit(train_x,train_y)\n",
    "predictions = classifier.predict(valid_x)\n",
    "print(\"valid:\",metrics.accuracy_score(predictions, valid_y))\n",
    "\n",
    "predict_test = classifier.predict(xtest_tfi)\n",
    "predict_testwp = classifier.predict(test_pvect)\n",
    "print(\"test_Processing:\",metrics.accuracy_score(predict_test, test_y))\n",
    "print(\"test_withoutprocess :\",metrics.accuracy_score(predict_testwp, test_y))"
   ]
  },
  {
   "cell_type": "code",
   "execution_count": 88,
   "metadata": {},
   "outputs": [
    {
     "name": "stdout",
     "output_type": "stream",
     "text": [
      "valid: 0.8730666666666667\n",
      "test_Processing: 0.847\n",
      "test_withoutprocess : 0.85908\n"
     ]
    }
   ],
   "source": [
    "bayes_class=naive_bayes.MultinomialNB().fit(train_x,train_y)\n",
    "predictions = bayes_class.predict(valid_x)\n",
    "print(\"valid:\",metrics.accuracy_score(predictions, valid_y))\n",
    "\n",
    "predict_test = bayes_class.predict(xtest_tfi)\n",
    "predict_testwp = bayes_class.predict(test_pvect)\n",
    "print(\"test_Processing:\",metrics.accuracy_score(predict_test, test_y))\n",
    "print(\"test_withoutprocess :\",metrics.accuracy_score(predict_testwp, test_y))"
   ]
  },
  {
   "cell_type": "code",
   "execution_count": 89,
   "metadata": {},
   "outputs": [
    {
     "name": "stderr",
     "output_type": "stream",
     "text": [
      "C:\\Users\\harshavb\\AppData\\Roaming\\Python\\Python36\\site-packages\\sklearn\\linear_model\\logistic.py:432: FutureWarning: Default solver will be changed to 'lbfgs' in 0.22. Specify a solver to silence this warning.\n",
      "  FutureWarning)\n"
     ]
    },
    {
     "name": "stdout",
     "output_type": "stream",
     "text": [
      "valid: 0.8862666666666666\n",
      "test_Processing: 0.86672\n",
      "test_withoutprocess : 0.8856\n"
     ]
    }
   ],
   "source": [
    "from sklearn.linear_model import LogisticRegression\n",
    "logmodel= LogisticRegression()\n",
    "logmodel.fit(train_x,train_y)\n",
    "predictions = logmodel.predict(valid_x)\n",
    "print(\"valid:\",metrics.accuracy_score(predictions, valid_y))\n",
    "\n",
    "predict_test = logmodel.predict(xtest_tfi)\n",
    "predict_testwp = logmodel.predict(test_pvect)\n",
    "print(\"test_Processing:\",metrics.accuracy_score(predict_test, test_y))\n",
    "print(\"test_withoutprocess :\",metrics.accuracy_score(predict_testwp, test_y))"
   ]
  },
  {
   "cell_type": "code",
   "execution_count": 90,
   "metadata": {},
   "outputs": [
    {
     "name": "stderr",
     "output_type": "stream",
     "text": [
      "C:\\Users\\harshavb\\AppData\\Roaming\\Python\\Python36\\site-packages\\sklearn\\linear_model\\logistic.py:432: FutureWarning: Default solver will be changed to 'lbfgs' in 0.22. Specify a solver to silence this warning.\n",
      "  FutureWarning)\n"
     ]
    },
    {
     "name": "stdout",
     "output_type": "stream",
     "text": [
      "best score :\n",
      "0.87604\n"
     ]
    },
    {
     "data": {
      "text/plain": [
       "0.87604"
      ]
     },
     "execution_count": 90,
     "metadata": {},
     "output_type": "execute_result"
    }
   ],
   "source": [
    "from sklearn.model_selection import GridSearchCV\n",
    "parameters={'C':[1.0,10.0,12.0,20,50,100],'penalty':['l1','l2']}\n",
    "clf=GridSearchCV(logmodel,param_grid=parameters,cv=3)\n",
    "clf.fit(train_x,train_y)\n",
    "clf.best_params_\n",
    "print('best score :'.format(clf.best_score_))\n",
    "print(clf.score(xtest_tfi,test_y))\n",
    "grid_prediction = clf.predict(xtest_tfi) \n",
    "grid_predic=grid.predict(test_pvect)\n",
    "print(\"Processed data:\",classification_report(test_y, grid_prediction))\n",
    "print(\"without Processing data:\",classification_report(test_y, grid_predic))"
   ]
  },
  {
   "cell_type": "code",
   "execution_count": 131,
   "metadata": {},
   "outputs": [
    {
     "name": "stdout",
     "output_type": "stream",
     "text": [
      "valid: 0.8964\n",
      "test_Processing: 0.87208\n",
      "test_withoutprocess : 0.8944\n"
     ]
    }
   ],
   "source": [
    "#using support vector machine\n",
    "SVM=svm.SVC(gamma='scale')\n",
    "SVM.fit(train_x,train_y)\n",
    "predictions = SVM.predict(valid_x)\n",
    "print(\"valid:\",metrics.accuracy_score(predictions, valid_y))\n",
    "\n",
    "predict_test = SVM.predict(xtest_tfi)\n",
    "predict_testwp = SVM.predict(test_pvect)\n",
    "print(\"test_Processing:\",metrics.accuracy_score(predict_test, test_y))\n",
    "print(\"test_withoutprocess :\",metrics.accuracy_score(predict_testwp, test_y))"
   ]
  },
  {
   "cell_type": "markdown",
   "metadata": {},
   "source": [
    "### gridsearch for SVM"
   ]
  },
  {
   "cell_type": "code",
   "execution_count": null,
   "metadata": {},
   "outputs": [
    {
     "name": "stderr",
     "output_type": "stream",
     "text": [
      "C:\\Users\\harshavb\\AppData\\Roaming\\Python\\Python36\\site-packages\\sklearn\\model_selection\\_split.py:1978: FutureWarning: The default value of cv will change from 3 to 5 in version 0.22. Specify it explicitly to silence this warning.\n",
      "  warnings.warn(CV_WARNING, FutureWarning)\n"
     ]
    },
    {
     "name": "stdout",
     "output_type": "stream",
     "text": [
      "Fitting 3 folds for each of 25 candidates, totalling 75 fits\n"
     ]
    },
    {
     "name": "stderr",
     "output_type": "stream",
     "text": [
      "[Parallel(n_jobs=1)]: Using backend SequentialBackend with 1 concurrent workers.\n"
     ]
    },
    {
     "name": "stdout",
     "output_type": "stream",
     "text": [
      "[CV] C=0.1, gamma=1, kernel=rbf ......................................\n",
      "[CV] .......... C=0.1, gamma=1, kernel=rbf, score=0.750, total=10.5min\n"
     ]
    },
    {
     "name": "stderr",
     "output_type": "stream",
     "text": [
      "[Parallel(n_jobs=1)]: Done   1 out of   1 | elapsed: 10.5min remaining:    0.0s\n"
     ]
    },
    {
     "name": "stdout",
     "output_type": "stream",
     "text": [
      "[CV] C=0.1, gamma=1, kernel=rbf ......................................\n",
      "[CV] .......... C=0.1, gamma=1, kernel=rbf, score=0.772, total= 8.4min\n",
      "[CV] C=0.1, gamma=1, kernel=rbf ......................................\n"
     ]
    },
    {
     "name": "stderr",
     "output_type": "stream",
     "text": [
      "[Parallel(n_jobs=1)]: Done   2 out of   2 | elapsed: 19.0min remaining:    0.0s\n"
     ]
    },
    {
     "name": "stdout",
     "output_type": "stream",
     "text": [
      "[CV] .......... C=0.1, gamma=1, kernel=rbf, score=0.772, total= 8.2min\n",
      "[CV] C=0.1, gamma=0.1, kernel=rbf ....................................\n",
      "[CV] ........ C=0.1, gamma=0.1, kernel=rbf, score=0.506, total= 8.2min\n",
      "[CV] C=0.1, gamma=0.1, kernel=rbf ....................................\n",
      "[CV] ........ C=0.1, gamma=0.1, kernel=rbf, score=0.505, total= 8.2min\n",
      "[CV] C=0.1, gamma=0.1, kernel=rbf ....................................\n",
      "[CV] ........ C=0.1, gamma=0.1, kernel=rbf, score=0.506, total= 8.1min\n",
      "[CV] C=0.1, gamma=0.01, kernel=rbf ...................................\n",
      "[CV] ....... C=0.1, gamma=0.01, kernel=rbf, score=0.502, total= 8.1min\n",
      "[CV] C=0.1, gamma=0.01, kernel=rbf ...................................\n",
      "[CV] ....... C=0.1, gamma=0.01, kernel=rbf, score=0.502, total= 8.2min\n",
      "[CV] C=0.1, gamma=0.01, kernel=rbf ...................................\n",
      "[CV] ....... C=0.1, gamma=0.01, kernel=rbf, score=0.502, total= 8.4min\n",
      "[CV] C=0.1, gamma=0.001, kernel=rbf ..................................\n",
      "[CV] ...... C=0.1, gamma=0.001, kernel=rbf, score=0.502, total= 8.3min\n",
      "[CV] C=0.1, gamma=0.001, kernel=rbf ..................................\n",
      "[CV] ...... C=0.1, gamma=0.001, kernel=rbf, score=0.502, total= 8.5min\n",
      "[CV] C=0.1, gamma=0.001, kernel=rbf ..................................\n",
      "[CV] ...... C=0.1, gamma=0.001, kernel=rbf, score=0.502, total= 8.4min\n",
      "[CV] C=0.1, gamma=0.0001, kernel=rbf .................................\n"
     ]
    }
   ],
   "source": [
    "from sklearn.model_selection import GridSearchCV \n",
    "from sklearn.metrics import classification_report\n",
    "# defining parameter range \n",
    "param_grid = {'C': [0.1, 1, 10, 100, 1000],  \n",
    "              'gamma': [1, 0.1, 0.01, 0.001, 0.0001], \n",
    "              'kernel': ['rbf']}  \n",
    "grid = GridSearchCV(SVM, param_grid, refit = True, verbose = 3) \n",
    "# fitting the model for grid search \n",
    "grid.fit(train_x,train_y)\n",
    "grid_predictions = grid.predict(xtest_tfi) \n",
    "grid_pred=grid.predict(test_pvect)\n",
    "print('best score :'.format(grid.best_score_))\n",
    "print(grid.score(xtest_tfi,test_y))\n",
    "#print(\"Processed data:\",classification_report(test_y, grid_predictions))\n",
    "#print(\"without Processing data:\",classification_report(test_y, grid_pred))"
   ]
  },
  {
   "cell_type": "code",
   "execution_count": 91,
   "metadata": {},
   "outputs": [
    {
     "name": "stdout",
     "output_type": "stream",
     "text": [
      "valid: 0.8214666666666667\n",
      "test_Processing: 0.812\n",
      "test_withoutprocess : 0.82104\n"
     ]
    }
   ],
   "source": [
    "from sklearn.ensemble import GradientBoostingClassifier\n",
    "model = GradientBoostingClassifier()\n",
    "model.fit(train_x,train_y)\n",
    "predictions = model.predict(valid_x)\n",
    "print(\"valid:\",metrics.accuracy_score(predictions, valid_y))\n",
    "\n",
    "predict_test = model.predict(xtest_tfi)\n",
    "predict_testwp = model.predict(test_pvect)\n",
    "print(\"test_Processing:\",metrics.accuracy_score(predict_test, test_y))\n",
    "print(\"test_withoutprocess :\",metrics.accuracy_score(predict_testwp, test_y))"
   ]
  },
  {
   "cell_type": "code",
   "execution_count": 92,
   "metadata": {},
   "outputs": [
    {
     "name": "stdout",
     "output_type": "stream",
     "text": [
      "valid: 0.8332\n",
      "test_Processing: 0.82044\n",
      "test_withoutprocess : 0.833\n"
     ]
    }
   ],
   "source": [
    "from sklearn.ensemble import AdaBoostClassifier\n",
    "modelA = AdaBoostClassifier(n_estimators=100)\n",
    "modelA.fit(train_x,train_y)\n",
    "predictions = modelA.predict(valid_x)\n",
    "print(\"valid:\",metrics.accuracy_score(predictions, valid_y))\n",
    "\n",
    "predict_test = modelA.predict(xtest_tfi)\n",
    "predict_testwp = modelA.predict(test_pvect)\n",
    "print(\"test_Processing:\",metrics.accuracy_score(predict_test, test_y))\n",
    "print(\"test_withoutprocess :\",metrics.accuracy_score(predict_testwp, test_y))"
   ]
  },
  {
   "cell_type": "code",
   "execution_count": 93,
   "metadata": {},
   "outputs": [
    {
     "name": "stdout",
     "output_type": "stream",
     "text": [
      "valid: 0.8428\n",
      "test_Processing: 0.83156\n",
      "test_withoutprocess : 0.83732\n"
     ]
    }
   ],
   "source": [
    "from sklearn.ensemble import RandomForestClassifier\n",
    "modelR = RandomForestClassifier(n_estimators=100)\n",
    "modelR.fit(train_x,train_y)\n",
    "predictions = modelR.predict(valid_x)\n",
    "print(\"valid:\",metrics.accuracy_score(predictions, valid_y))\n",
    "\n",
    "predict_test = modelR.predict(xtest_tfi)\n",
    "predict_testwp = modelR.predict(test_pvect)\n",
    "print(\"test_Processing:\",metrics.accuracy_score(predict_test, test_y))\n",
    "print(\"test_withoutprocess :\",metrics.accuracy_score(predict_testwp, test_y))"
   ]
  },
  {
   "cell_type": "markdown",
   "metadata": {},
   "source": [
    "### using count vectorizer for the text data"
   ]
  },
  {
   "cell_type": "code",
   "execution_count": 94,
   "metadata": {},
   "outputs": [
    {
     "name": "stdout",
     "output_type": "stream",
     "text": [
      "valid: 0.8789333333333333\n",
      "test_Processing: 0.83756\n",
      "test_withoutprocess : 0.85308\n",
      "valid: 0.8768\n",
      "test_Processing: 0.83424\n",
      "test_withoutprocess : 0.85056\n",
      "valid: 0.8525333333333334\n",
      "test_Processing: 0.83672\n",
      "test_withoutprocess : 0.84852\n"
     ]
    },
    {
     "name": "stderr",
     "output_type": "stream",
     "text": [
      "C:\\Users\\harshavb\\AppData\\Roaming\\Python\\Python36\\site-packages\\sklearn\\linear_model\\logistic.py:432: FutureWarning: Default solver will be changed to 'lbfgs' in 0.22. Specify a solver to silence this warning.\n",
      "  FutureWarning)\n"
     ]
    },
    {
     "name": "stdout",
     "output_type": "stream",
     "text": [
      "valid: 0.896\n",
      "test_Processing: 0.87428\n",
      "test_withoutprocess : 0.89532\n"
     ]
    }
   ],
   "source": [
    "train_x1, valid_x1, train_y1, valid_y1 = model_selection.train_test_split(trainp['review'], trainp['label'],test_size=0.3)\n",
    "encoder = preprocessing.LabelEncoder()\n",
    "count_vect = CountVectorizer(decode_error='replace', strip_accents='unicode', \n",
    "                             lowercase=True, preprocessor=None, tokenizer=None, stop_words=None, \n",
    "                             token_pattern=r'\\w{1,}', ngram_range=(1, 2), analyzer='word', max_df=1.0, min_df=1)\n",
    "train_y1 = encoder.fit_transform(train_y1)\n",
    "valid_y1 = encoder.fit_transform(valid_y1)\n",
    "train_x1=count_vect.fit_transform(train_x1)\n",
    "valid_x1=count_vect.transform(valid_x1)\n",
    "\n",
    "test_y = encoder.fit_transform(y_test)\n",
    "xtest_count =  count_vect.transform(X_test)#count vectorizer on pre-processed text\n",
    "test_covect= count_vect.transform(test_wp)#count vectorizer on text without preprocessing\n",
    "\n",
    "classifier=BernoulliNB().fit(train_x1,train_y1)\n",
    "predictions = classifier.predict(valid_x1)\n",
    "print(\"valid:\",metrics.accuracy_score(predictions, valid_y1))\n",
    "predict_test = classifier.predict(xtest_count)\n",
    "predict_testwp = classifier.predict(test_covect)\n",
    "print(\"test_Processing:\",metrics.accuracy_score(predict_test, test_y))\n",
    "print(\"test_withoutprocess :\",metrics.accuracy_score(predict_testwp, test_y))\n",
    "\n",
    "bayes_class=naive_bayes.MultinomialNB().fit(train_x1,train_y1)\n",
    "predictions = bayes_class.predict(valid_x1)\n",
    "print(\"valid:\",metrics.accuracy_score(predictions, valid_y1))\n",
    "predict_test = bayes_class.predict(xtest_count)\n",
    "predict_testwp = bayes_class.predict(test_covect)\n",
    "print(\"test_Processing:\",metrics.accuracy_score(predict_test, test_y))\n",
    "print(\"test_withoutprocess :\",metrics.accuracy_score(predict_testwp, test_y))\n",
    "\n",
    "\n",
    "modelR.fit(train_x1,train_y1)\n",
    "predictions = modelR.predict(valid_x1)\n",
    "print(\"valid:\",metrics.accuracy_score(predictions, valid_y1))\n",
    "predict_test = modelR.predict(xtest_count)\n",
    "predict_testwp = modelR.predict(test_covect)\n",
    "print(\"test_Processing:\",metrics.accuracy_score(predict_test, test_y))\n",
    "print(\"test_withoutprocess :\",metrics.accuracy_score(predict_testwp, test_y))\n",
    "\n",
    "logmodel.fit(train_x1,train_y1)\n",
    "predictions = logmodel.predict(valid_x1)\n",
    "print(\"valid:\",metrics.accuracy_score(predictions, valid_y1))\n",
    "predict_test = logmodel.predict(xtest_count)\n",
    "predict_testwp = logmodel.predict(test_covect)\n",
    "print(\"test_Processing:\",metrics.accuracy_score(predict_test, test_y))\n",
    "print(\"test_withoutprocess :\",metrics.accuracy_score(predict_testwp, test_y))"
   ]
  },
  {
   "cell_type": "code",
   "execution_count": 79,
   "metadata": {},
   "outputs": [
    {
     "name": "stderr",
     "output_type": "stream",
     "text": [
      "C:\\Users\\harshavb\\AppData\\Roaming\\Python\\Python36\\site-packages\\sklearn\\linear_model\\logistic.py:432: FutureWarning: Default solver will be changed to 'lbfgs' in 0.22. Specify a solver to silence this warning.\n",
      "  FutureWarning)\n"
     ]
    },
    {
     "name": "stdout",
     "output_type": "stream",
     "text": [
      "best score :\n",
      "0.89276\n"
     ]
    },
    {
     "data": {
      "text/plain": [
       "0.89276"
      ]
     },
     "execution_count": 79,
     "metadata": {},
     "output_type": "execute_result"
    }
   ],
   "source": [
    "from sklearn.model_selection import GridSearchCV\n",
    "parameters={'C':[1.0,10.0,12.0,20,50,100],'penalty':['l1','l2']}\n",
    "clf=GridSearchCV(logmodel,param_grid=parameters,cv=3)\n",
    "clf.fit(train_x1,train_y1)\n",
    "clf.best_params_\n",
    "print('best score :'.format(clf.best_score_))\n",
    "print(clf.score(xtest_count,test_y))\n",
    "grid_predictions = clf.predict(xtest_count)\n",
    "print(classification_report(test_y, grid_predictions)) "
   ]
  },
  {
   "cell_type": "code",
   "execution_count": null,
   "metadata": {},
   "outputs": [],
   "source": [
    "grid_predi = clf.predict(test_covect)\n",
    "print(classification_report(test_y, grid_predi)) "
   ]
  },
  {
   "cell_type": "markdown",
   "metadata": {},
   "source": [
    "### considering the preprocessed data for training"
   ]
  },
  {
   "cell_type": "code",
   "execution_count": 106,
   "metadata": {},
   "outputs": [],
   "source": [
    "train_xt, valid_xt, train_yt, valid_yt = model_selection.train_test_split(trainp['text_final'], trainp['label'],test_size=0.3)\n",
    "encoder = preprocessing.LabelEncoder()\n",
    "train_yt = encoder.fit_transform(train_yt)\n",
    "valid_yt = encoder.fit_transform(valid_yt)\n",
    "train_xt=vectorizer.fit_transform(train_xt)\n",
    "valid_xt=vectorizer.transform(valid_xt)\n",
    "test_y = encoder.fit_transform(y_test)\n",
    "X_testp=testp['text_final'] #pre-processed test data\n",
    "test_wpr=testp['review'] #without preprocessing\n",
    "xtest_tfid =  vectorizer.transform(X_testp)#tfidf vectorizer on pre-processed text\n",
    "test_prevect= vectorizer.transform(test_wpr)"
   ]
  },
  {
   "cell_type": "markdown",
   "metadata": {},
   "source": [
    "### using different types of model and finding the accuracy and comparing the accuracy between processed and normal data"
   ]
  },
  {
   "cell_type": "code",
   "execution_count": 107,
   "metadata": {},
   "outputs": [
    {
     "name": "stdout",
     "output_type": "stream",
     "text": [
      "valid_bnb: 0.8712\n",
      "test_Processing: 0.8592\n",
      "test_withoutprocess : 0.84528\n"
     ]
    }
   ],
   "source": [
    "from sklearn.naive_bayes import BernoulliNB\n",
    "classifier1=BernoulliNB().fit(train_xt,train_yt)\n",
    "predictions = classifier1.predict(valid_xt)\n",
    "print(\"valid_bnb:\",metrics.accuracy_score(predictions, valid_yt))\n",
    "\n",
    "predict_test = classifier1.predict(xtest_tfid)\n",
    "predict_testwp = classifier1.predict(test_prevect)\n",
    "print(\"test_Processing:\",metrics.accuracy_score(predict_test, test_y))\n",
    "print(\"test_withoutprocess :\",metrics.accuracy_score(predict_testwp, test_y))"
   ]
  },
  {
   "cell_type": "code",
   "execution_count": 111,
   "metadata": {},
   "outputs": [
    {
     "name": "stdout",
     "output_type": "stream",
     "text": [
      "valid_nb: 0.8738666666666667\n",
      "test_Processing: 0.8568\n",
      "test_withoutprocess : 0.8426\n"
     ]
    }
   ],
   "source": [
    "bayes_class=naive_bayes.MultinomialNB().fit(train_xt,train_yt)\n",
    "predictions = bayes_class.predict(valid_xt)\n",
    "print(\"valid_nb:\",metrics.accuracy_score(predictions, valid_yt))\n",
    "\n",
    "predict_test = bayes_class.predict(xtest_tfid)\n",
    "predict_testwp = bayes_class.predict(test_prevect)\n",
    "print(\"test_Processing:\",metrics.accuracy_score(predict_test, test_y))\n",
    "print(\"test_withoutprocess :\",metrics.accuracy_score(predict_testwp, test_y))"
   ]
  },
  {
   "cell_type": "code",
   "execution_count": 112,
   "metadata": {},
   "outputs": [
    {
     "name": "stderr",
     "output_type": "stream",
     "text": [
      "C:\\Users\\harshavb\\AppData\\Roaming\\Python\\Python36\\site-packages\\sklearn\\linear_model\\logistic.py:432: FutureWarning: Default solver will be changed to 'lbfgs' in 0.22. Specify a solver to silence this warning.\n",
      "  FutureWarning)\n"
     ]
    },
    {
     "name": "stdout",
     "output_type": "stream",
     "text": [
      "valid_log: 0.8870666666666667\n",
      "test_Processing: 0.88296\n",
      "test_withoutprocess : 0.83272\n"
     ]
    }
   ],
   "source": [
    "logmodel.fit(train_xt,train_yt)\n",
    "predictions = logmodel.predict(valid_xt)\n",
    "print(\"valid_log:\",metrics.accuracy_score(predictions, valid_yt))\n",
    "\n",
    "predict_test = logmodel.predict(xtest_tfid)\n",
    "predict_testwp = logmodel.predict(test_prevect)\n",
    "print(\"test_Processing:\",metrics.accuracy_score(predict_test, test_y))\n",
    "print(\"test_withoutprocess :\",metrics.accuracy_score(predict_testwp, test_y))"
   ]
  },
  {
   "cell_type": "code",
   "execution_count": 110,
   "metadata": {},
   "outputs": [
    {
     "name": "stderr",
     "output_type": "stream",
     "text": [
      "C:\\Users\\harshavb\\AppData\\Roaming\\Python\\Python36\\site-packages\\sklearn\\linear_model\\logistic.py:432: FutureWarning: Default solver will be changed to 'lbfgs' in 0.22. Specify a solver to silence this warning.\n",
      "  FutureWarning)\n"
     ]
    },
    {
     "name": "stdout",
     "output_type": "stream",
     "text": [
      "best score :\n",
      "0.89656\n"
     ]
    },
    {
     "data": {
      "text/plain": [
       "0.89656"
      ]
     },
     "execution_count": 110,
     "metadata": {},
     "output_type": "execute_result"
    }
   ],
   "source": [
    "from sklearn.model_selection import GridSearchCV\n",
    "parameters={'C':[1.0,10.0,12.0,20,50,100],'penalty':['l1','l2']}\n",
    "clf=GridSearchCV(logmodel,param_grid=parameters,cv=3)\n",
    "clf.fit(train_xt,train_yt)\n",
    "clf.best_params_\n",
    "print('best score :'.format(clf.best_score_))\n",
    "print(clf.score(xtest_tfid,test_y))\n",
    "clf.score(xtest_tfid,test_y)"
   ]
  },
  {
   "cell_type": "markdown",
   "metadata": {},
   "source": [
    "### using the countvectorizer"
   ]
  },
  {
   "cell_type": "code",
   "execution_count": null,
   "metadata": {},
   "outputs": [],
   "source": [
    "train_x2, valid_x2, train_y2, valid_y2 = model_selection.train_test_split(trainp['text_final'], trainp['label'],test_size=0.3)\n",
    "count_vect = CountVectorizer(decode_error='replace', strip_accents='unicode', \n",
    "                             lowercase=True, preprocessor=None, tokenizer=None, stop_words=None, \n",
    "                             token_pattern=r'\\w{1,}', ngram_range=(1, 2), analyzer='word', max_df=1.0, min_df=1)\n",
    "train_y2 = encoder.fit_transform(train_y2)\n",
    "valid_y2 = encoder.fit_transform(valid_y2)\n",
    "train_x2=count_vect.fit_transform(train_x2)\n",
    "valid_x2=count_vect.transform(valid_x2)\n",
    "test_y = encoder.fit_transform(y_test)\n",
    "X_testp=testp['text_final'] #pre-processed test data\n",
    "test_wpr=testp['review'] #without preprocessing\n",
    "xtest_count =  count_vect.transform(X_testp)#tfidf vectorizer on pre-processed text\n",
    "test_covect= count_vect.transform(test_wpr)#count vectorizer on text without preprocessing"
   ]
  },
  {
   "cell_type": "code",
   "execution_count": 127,
   "metadata": {},
   "outputs": [
    {
     "name": "stdout",
     "output_type": "stream",
     "text": [
      "valid: 0.8572\n",
      "test_Processing: 0.83672\n",
      "test_withoutprocess : 0.81076\n"
     ]
    }
   ],
   "source": [
    "classifier=BernoulliNB().fit(train_x2,train_y2)\n",
    "predictions = classifier.predict(valid_x2)\n",
    "print(\"valid:\",metrics.accuracy_score(predictions, valid_y2))\n",
    "predict_test = classifier.predict(xtest_count)\n",
    "predict_testwp = classifier.predict(test_covect)\n",
    "print(\"test_Processing:\",metrics.accuracy_score(predict_test, test_y))\n",
    "print(\"test_withoutprocess :\",metrics.accuracy_score(predict_testwp, test_y))"
   ]
  },
  {
   "cell_type": "code",
   "execution_count": 128,
   "metadata": {},
   "outputs": [
    {
     "name": "stdout",
     "output_type": "stream",
     "text": [
      "valid: 0.8709333333333333\n",
      "test_Processing: 0.8512\n",
      "test_withoutprocess : 0.83528\n"
     ]
    }
   ],
   "source": [
    "bayes_class=naive_bayes.MultinomialNB().fit(train_x2,train_y2)\n",
    "predictions = bayes_class.predict(valid_x2)\n",
    "print(\"valid:\",metrics.accuracy_score(predictions, valid_y2))\n",
    "predict_test = bayes_class.predict(xtest_count)\n",
    "predict_testwp = bayes_class.predict(test_covect)\n",
    "print(\"test_Processing:\",metrics.accuracy_score(predict_test, test_y))\n",
    "print(\"test_withoutprocess :\",metrics.accuracy_score(predict_testwp, test_y))"
   ]
  },
  {
   "cell_type": "code",
   "execution_count": 129,
   "metadata": {},
   "outputs": [
    {
     "name": "stdout",
     "output_type": "stream",
     "text": [
      "valid: 0.8478666666666667\n",
      "test_Processing: 0.85048\n",
      "test_withoutprocess : 0.83764\n"
     ]
    }
   ],
   "source": [
    "modelR.fit(train_x2,train_y2)\n",
    "predictions = modelR.predict(valid_x2)\n",
    "print(\"valid:\",metrics.accuracy_score(predictions, valid_y2))\n",
    "predict_test = modelR.predict(xtest_count)\n",
    "predict_testwp = modelR.predict(test_covect)\n",
    "print(\"test_Processing:\",metrics.accuracy_score(predict_test, test_y))\n",
    "print(\"test_withoutprocess :\",metrics.accuracy_score(predict_testwp, test_y))"
   ]
  },
  {
   "cell_type": "code",
   "execution_count": 130,
   "metadata": {},
   "outputs": [
    {
     "name": "stderr",
     "output_type": "stream",
     "text": [
      "C:\\Users\\harshavb\\AppData\\Roaming\\Python\\Python36\\site-packages\\sklearn\\linear_model\\logistic.py:432: FutureWarning: Default solver will be changed to 'lbfgs' in 0.22. Specify a solver to silence this warning.\n",
      "  FutureWarning)\n"
     ]
    },
    {
     "name": "stdout",
     "output_type": "stream",
     "text": [
      "valid: 0.8929333333333334\n",
      "test_Processing: 0.88996\n",
      "test_withoutprocess : 0.86072\n"
     ]
    }
   ],
   "source": [
    "logmodel.fit(train_x2,train_y2)\n",
    "predictions = logmodel.predict(valid_x2)\n",
    "print(\"valid:\",metrics.accuracy_score(predictions, valid_y2))\n",
    "predict_test = logmodel.predict(xtest_count)\n",
    "predict_testwp = logmodel.predict(test_covect)\n",
    "print(\"test_Processing:\",metrics.accuracy_score(predict_test, test_y))\n",
    "print(\"test_withoutprocess :\",metrics.accuracy_score(predict_testwp, test_y))"
   ]
  },
  {
   "cell_type": "markdown",
   "metadata": {},
   "source": [
    "### using the gridsearch for logmodel"
   ]
  },
  {
   "cell_type": "code",
   "execution_count": 126,
   "metadata": {},
   "outputs": [
    {
     "name": "stderr",
     "output_type": "stream",
     "text": [
      "C:\\Users\\harshavb\\AppData\\Roaming\\Python\\Python36\\site-packages\\sklearn\\linear_model\\logistic.py:432: FutureWarning: Default solver will be changed to 'lbfgs' in 0.22. Specify a solver to silence this warning.\n",
      "  FutureWarning)\n"
     ]
    },
    {
     "name": "stdout",
     "output_type": "stream",
     "text": [
      "best score :\n",
      "0.88996\n",
      "              precision    recall  f1-score   support\n",
      "\n",
      "           0       0.89      0.88      0.89     12500\n",
      "           1       0.89      0.90      0.89     12500\n",
      "\n",
      "    accuracy                           0.89     25000\n",
      "   macro avg       0.89      0.89      0.89     25000\n",
      "weighted avg       0.89      0.89      0.89     25000\n",
      "\n"
     ]
    }
   ],
   "source": [
    "from sklearn.model_selection import GridSearchCV\n",
    "from sklearn.metrics import classification_report\n",
    "parameters={'C':[1.0,10.0,12.0,20,50,100],'penalty':['l1','l2']}\n",
    "clf=GridSearchCV(logmodel,param_grid=parameters,cv=3)\n",
    "clf.fit(train_x2,train_y2)\n",
    "clf.best_params_\n",
    "print('best score :'.format(clf.best_score_))\n",
    "print(clf.score(xtest_count,test_y))\n",
    "grid_predictions = clf.predict(xtest_count)\n",
    "print(classification_report(test_y, grid_predictions)) "
   ]
  },
  {
   "cell_type": "code",
   "execution_count": 125,
   "metadata": {},
   "outputs": [
    {
     "name": "stdout",
     "output_type": "stream",
     "text": [
      "              precision    recall  f1-score   support\n",
      "\n",
      "           0       0.84      0.90      0.87     12500\n",
      "           1       0.89      0.82      0.86     12500\n",
      "\n",
      "    accuracy                           0.86     25000\n",
      "   macro avg       0.86      0.86      0.86     25000\n",
      "weighted avg       0.86      0.86      0.86     25000\n",
      "\n"
     ]
    }
   ],
   "source": [
    "grid_pred= clf.predict(test_covect)\n",
    "print(classification_report(test_y, grid_pred)) "
   ]
  },
  {
   "cell_type": "code",
   "execution_count": null,
   "metadata": {},
   "outputs": [],
   "source": [
    "from genism.models import word2vec"
   ]
  }
 ],
 "metadata": {
  "kernelspec": {
   "display_name": "Python 3",
   "language": "python",
   "name": "python3"
  }
 },
 "nbformat": 4,
 "nbformat_minor": 2
}
